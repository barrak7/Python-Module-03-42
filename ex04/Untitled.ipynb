{
 "cells": [
  {
   "cell_type": "code",
   "execution_count": 6,
   "id": "d15b63af",
   "metadata": {},
   "outputs": [],
   "source": [
    "import numpy as np\n",
    "import pandas as pd"
   ]
  },
  {
   "cell_type": "code",
   "execution_count": 7,
   "id": "83e86509",
   "metadata": {},
   "outputs": [],
   "source": [
    "class KmeansClustering:\n",
    "    def __init__(self, max_iter=20, ncentroid=5):\n",
    "        self.ncentroid = ncentroid  # number of centroids\n",
    "        self.max_iter = max_iter  # number of max iterations to update the centroids\n",
    "        self.centroids = []  # values of the centroids\n",
    "\n",
    "    def set_centroids(self, arr):\n",
    "        for i, centroid in enumerate(self.centroids):\n",
    "            in_arr = arr[:, 0] == i\n",
    "            # if (arr[in_arr].shape[0] == 0):\n",
    "            #   print(\"here\")\n",
    "            #    print(arr[in_arr])\n",
    "            self.centroids[i] = np.sum(arr[in_arr], axis=0)\n",
    "            self.centroids[i] /= arr[in_arr].shape[0]\n",
    "            self.centroids[i][0] = i\n",
    "\n",
    "    @staticmethod\n",
    "    def get_distance(point, centroid):\n",
    "        return (np.sqrt(np.sum((point[1:] - centroid[1:]) ** 2)))\n",
    "\n",
    "    def cluster(self, point):\n",
    "        distance = self.get_distance(point, self.centroids[0])\n",
    "        for i, centroid in enumerate(self.centroids):\n",
    "            new_dist = self.get_distance(point, centroid)\n",
    "            if new_dist < distance:\n",
    "                point[0] = i\n",
    "                distance = new_dist\n",
    "\n",
    "    def fit(self, X):\n",
    "        \"\"\"\n",
    "        Run the K-means clustering algorithm.\n",
    "        For the location of the initial centroids, random pick ncentroids from the dataset.\n",
    "        Args:\n",
    "        -----\n",
    "                X: has to be an numpy.ndarray, a matrice of dimension m * n.\n",
    "        Return:\n",
    "        -------\n",
    "                None.\n",
    "        Raises:\n",
    "        -------\n",
    "                This function should not raise any Exception.\n",
    "        \"\"\"\n",
    "        if not isinstance(X, np.ndarray):\n",
    "            return\n",
    "        self.centroids = X[np.random.choice(\n",
    "            X.shape[0], self.ncentroid, replace=False), :]\n",
    "        i = self.max_iter\n",
    "        while (i):\n",
    "            for e, point in enumerate(X):\n",
    "                self.cluster(X[e])\n",
    "            self.set_centroids(X)\n",
    "            i -= 1\n",
    "\n",
    "    def predict(self, X):\n",
    "        \"\"\"\n",
    "        Predict from wich cluster each datapoint belongs to.\n",
    "        Args:\n",
    "        -----\n",
    "                X: has to be an numpy.ndarray, a matrice of dimension m * n.\n",
    "        Return:\n",
    "        -------\n",
    "                the prediction has a numpy.ndarray, a vector of dimension m * 1.\n",
    "        Raises:\n",
    "        -------\n",
    "                This function should not raise any Exception.\n",
    "        \"\"\"\n",
    "        pass\n"
   ]
  },
  {
   "cell_type": "code",
   "execution_count": 9,
   "id": "4dbfef4d",
   "metadata": {},
   "outputs": [
    {
     "name": "stdout",
     "output_type": "stream",
     "text": [
      "[[  0.         172.27415062  86.9703492    1.01809825]\n",
      " [  1.         174.7242216   71.25714217   0.90947054]\n",
      " [  2.         187.84261373  84.5054086    0.86765264]\n",
      " [  3.         193.30277863 102.38901871   0.78660658]\n",
      " [  4.         199.44685066  74.59360011   0.7496104 ]]\n"
     ]
    }
   ],
   "source": [
    "data = pd.read_csv(\"solar_system_census.csv\")\n",
    "data = np.array(data)\n",
    "test = KmeansClustering()\n",
    "test.fit(data)\n",
    "print(test.centroids)"
   ]
  },
  {
   "cell_type": "code",
   "execution_count": null,
   "id": "ae82a703",
   "metadata": {},
   "outputs": [],
   "source": []
  }
 ],
 "metadata": {
  "kernelspec": {
   "display_name": "Python 3 (ipykernel)",
   "language": "python",
   "name": "python3"
  },
  "language_info": {
   "codemirror_mode": {
    "name": "ipython",
    "version": 3
   },
   "file_extension": ".py",
   "mimetype": "text/x-python",
   "name": "python",
   "nbconvert_exporter": "python",
   "pygments_lexer": "ipython3",
   "version": "3.9.1"
  }
 },
 "nbformat": 4,
 "nbformat_minor": 5
}
